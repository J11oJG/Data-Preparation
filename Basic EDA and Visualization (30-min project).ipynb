{
 "cells": [
  {
   "cell_type": "code",
   "execution_count": 205,
   "metadata": {
    "ExecuteTime": {
     "start_time": "2023-04-15T12:16:19.999439Z",
     "end_time": "2023-04-15T12:16:20.004858Z"
    }
   },
   "outputs": [],
   "source": [
    "import pandas as pd\n",
    "import matplotlib.pyplot as plt\n",
    "import seaborn as sns"
   ]
  },
  {
   "cell_type": "code",
   "execution_count": 206,
   "metadata": {
    "ExecuteTime": {
     "start_time": "2023-04-15T12:16:20.813901Z",
     "end_time": "2023-04-15T12:16:20.824894Z"
    }
   },
   "outputs": [],
   "source": [
    "df = pd.read_csv('500_Person_Gender_Height_Weight_Index.csv')"
   ]
  },
  {
   "cell_type": "markdown",
   "source": [
    "# Data Cleaning"
   ],
   "metadata": {
    "collapsed": false
   }
  },
  {
   "cell_type": "code",
   "execution_count": 207,
   "outputs": [
    {
     "data": {
      "text/plain": "   Gender  Height  Weight  Index\n0    Male     174      96      4\n1    Male     189      87      2\n2  Female     185     110      4\n3  Female     195     104      3\n4    Male     149      61      3",
      "text/html": "<div>\n<style scoped>\n    .dataframe tbody tr th:only-of-type {\n        vertical-align: middle;\n    }\n\n    .dataframe tbody tr th {\n        vertical-align: top;\n    }\n\n    .dataframe thead th {\n        text-align: right;\n    }\n</style>\n<table border=\"1\" class=\"dataframe\">\n  <thead>\n    <tr style=\"text-align: right;\">\n      <th></th>\n      <th>Gender</th>\n      <th>Height</th>\n      <th>Weight</th>\n      <th>Index</th>\n    </tr>\n  </thead>\n  <tbody>\n    <tr>\n      <th>0</th>\n      <td>Male</td>\n      <td>174</td>\n      <td>96</td>\n      <td>4</td>\n    </tr>\n    <tr>\n      <th>1</th>\n      <td>Male</td>\n      <td>189</td>\n      <td>87</td>\n      <td>2</td>\n    </tr>\n    <tr>\n      <th>2</th>\n      <td>Female</td>\n      <td>185</td>\n      <td>110</td>\n      <td>4</td>\n    </tr>\n    <tr>\n      <th>3</th>\n      <td>Female</td>\n      <td>195</td>\n      <td>104</td>\n      <td>3</td>\n    </tr>\n    <tr>\n      <th>4</th>\n      <td>Male</td>\n      <td>149</td>\n      <td>61</td>\n      <td>3</td>\n    </tr>\n  </tbody>\n</table>\n</div>"
     },
     "execution_count": 207,
     "metadata": {},
     "output_type": "execute_result"
    }
   ],
   "source": [
    "df.head()"
   ],
   "metadata": {
    "collapsed": false,
    "ExecuteTime": {
     "start_time": "2023-04-15T12:16:21.658272Z",
     "end_time": "2023-04-15T12:16:21.660449Z"
    }
   }
  },
  {
   "cell_type": "code",
   "execution_count": 208,
   "outputs": [
    {
     "data": {
      "text/plain": "(500, 4)"
     },
     "execution_count": 208,
     "metadata": {},
     "output_type": "execute_result"
    }
   ],
   "source": [
    "df.shape"
   ],
   "metadata": {
    "collapsed": false,
    "ExecuteTime": {
     "start_time": "2023-04-15T12:16:22.413891Z",
     "end_time": "2023-04-15T12:16:22.450023Z"
    }
   }
  },
  {
   "cell_type": "code",
   "execution_count": 209,
   "outputs": [
    {
     "data": {
      "text/plain": "Gender    0\nHeight    0\nWeight    0\nIndex     0\ndtype: int64"
     },
     "execution_count": 209,
     "metadata": {},
     "output_type": "execute_result"
    }
   ],
   "source": [
    "df.isnull().sum()"
   ],
   "metadata": {
    "collapsed": false,
    "ExecuteTime": {
     "start_time": "2023-04-15T12:16:23.251850Z",
     "end_time": "2023-04-15T12:16:23.262069Z"
    }
   }
  },
  {
   "cell_type": "code",
   "execution_count": 210,
   "outputs": [
    {
     "data": {
      "text/plain": "11"
     },
     "execution_count": 210,
     "metadata": {},
     "output_type": "execute_result"
    }
   ],
   "source": [
    "df.duplicated().sum()"
   ],
   "metadata": {
    "collapsed": false,
    "ExecuteTime": {
     "start_time": "2023-04-15T12:16:25.128927Z",
     "end_time": "2023-04-15T12:16:25.132430Z"
    }
   }
  },
  {
   "cell_type": "code",
   "execution_count": 211,
   "outputs": [],
   "source": [
    "df.drop_duplicates(inplace=True)"
   ],
   "metadata": {
    "collapsed": false,
    "ExecuteTime": {
     "start_time": "2023-04-15T12:16:25.558372Z",
     "end_time": "2023-04-15T12:16:25.563928Z"
    }
   }
  },
  {
   "cell_type": "code",
   "execution_count": 212,
   "metadata": {
    "ExecuteTime": {
     "start_time": "2023-04-15T12:16:26.112746Z",
     "end_time": "2023-04-15T12:16:26.134586Z"
    }
   },
   "outputs": [
    {
     "data": {
      "text/plain": "           Height      Weight       Index\ncount  489.000000  489.000000  489.000000\nmean   169.916155  106.376278    3.756646\nstd     16.370303   32.437669    1.353533\nmin    140.000000   50.000000    0.000000\n25%    156.000000   80.000000    3.000000\n50%    170.000000  107.000000    4.000000\n75%    184.000000  136.000000    5.000000\nmax    199.000000  160.000000    5.000000",
      "text/html": "<div>\n<style scoped>\n    .dataframe tbody tr th:only-of-type {\n        vertical-align: middle;\n    }\n\n    .dataframe tbody tr th {\n        vertical-align: top;\n    }\n\n    .dataframe thead th {\n        text-align: right;\n    }\n</style>\n<table border=\"1\" class=\"dataframe\">\n  <thead>\n    <tr style=\"text-align: right;\">\n      <th></th>\n      <th>Height</th>\n      <th>Weight</th>\n      <th>Index</th>\n    </tr>\n  </thead>\n  <tbody>\n    <tr>\n      <th>count</th>\n      <td>489.000000</td>\n      <td>489.000000</td>\n      <td>489.000000</td>\n    </tr>\n    <tr>\n      <th>mean</th>\n      <td>169.916155</td>\n      <td>106.376278</td>\n      <td>3.756646</td>\n    </tr>\n    <tr>\n      <th>std</th>\n      <td>16.370303</td>\n      <td>32.437669</td>\n      <td>1.353533</td>\n    </tr>\n    <tr>\n      <th>min</th>\n      <td>140.000000</td>\n      <td>50.000000</td>\n      <td>0.000000</td>\n    </tr>\n    <tr>\n      <th>25%</th>\n      <td>156.000000</td>\n      <td>80.000000</td>\n      <td>3.000000</td>\n    </tr>\n    <tr>\n      <th>50%</th>\n      <td>170.000000</td>\n      <td>107.000000</td>\n      <td>4.000000</td>\n    </tr>\n    <tr>\n      <th>75%</th>\n      <td>184.000000</td>\n      <td>136.000000</td>\n      <td>5.000000</td>\n    </tr>\n    <tr>\n      <th>max</th>\n      <td>199.000000</td>\n      <td>160.000000</td>\n      <td>5.000000</td>\n    </tr>\n  </tbody>\n</table>\n</div>"
     },
     "execution_count": 212,
     "metadata": {},
     "output_type": "execute_result"
    }
   ],
   "source": [
    "df.describe()"
   ]
  },
  {
   "cell_type": "markdown",
   "source": [
    "Create a new column with obesity index names"
   ],
   "metadata": {
    "collapsed": false
   }
  },
  {
   "cell_type": "code",
   "execution_count": 213,
   "metadata": {
    "ExecuteTime": {
     "start_time": "2023-04-15T12:16:29.146160Z",
     "end_time": "2023-04-15T12:16:29.150419Z"
    }
   },
   "outputs": [],
   "source": [
    "def index_names(ind):\n",
    "    names = {0: 'Extremely Underweight', 1: 'Underweight', 2: 'Normal', 3: 'Overweight', 4: 'Obese', 5: 'Extremely Obese'}\n",
    "    return names.get(ind, 'Invalid Index')"
   ]
  },
  {
   "cell_type": "code",
   "execution_count": 214,
   "metadata": {
    "ExecuteTime": {
     "start_time": "2023-04-15T12:16:29.474205Z",
     "end_time": "2023-04-15T12:16:29.477481Z"
    }
   },
   "outputs": [],
   "source": [
    "df['Index_name'] = df['Index'].apply(index_names)"
   ]
  },
  {
   "cell_type": "code",
   "execution_count": 215,
   "metadata": {
    "ExecuteTime": {
     "start_time": "2023-04-15T12:16:29.817650Z",
     "end_time": "2023-04-15T12:16:29.822668Z"
    }
   },
   "outputs": [
    {
     "data": {
      "text/plain": "     Gender  Height  Weight  Index       Index_name\n0      Male     174      96      4            Obese\n1      Male     189      87      2           Normal\n2    Female     185     110      4            Obese\n3    Female     195     104      3       Overweight\n4      Male     149      61      3       Overweight\n..      ...     ...     ...    ...              ...\n495  Female     150     153      5  Extremely Obese\n496  Female     184     121      4            Obese\n497  Female     141     136      5  Extremely Obese\n498    Male     150      95      5  Extremely Obese\n499    Male     173     131      5  Extremely Obese\n\n[489 rows x 5 columns]",
      "text/html": "<div>\n<style scoped>\n    .dataframe tbody tr th:only-of-type {\n        vertical-align: middle;\n    }\n\n    .dataframe tbody tr th {\n        vertical-align: top;\n    }\n\n    .dataframe thead th {\n        text-align: right;\n    }\n</style>\n<table border=\"1\" class=\"dataframe\">\n  <thead>\n    <tr style=\"text-align: right;\">\n      <th></th>\n      <th>Gender</th>\n      <th>Height</th>\n      <th>Weight</th>\n      <th>Index</th>\n      <th>Index_name</th>\n    </tr>\n  </thead>\n  <tbody>\n    <tr>\n      <th>0</th>\n      <td>Male</td>\n      <td>174</td>\n      <td>96</td>\n      <td>4</td>\n      <td>Obese</td>\n    </tr>\n    <tr>\n      <th>1</th>\n      <td>Male</td>\n      <td>189</td>\n      <td>87</td>\n      <td>2</td>\n      <td>Normal</td>\n    </tr>\n    <tr>\n      <th>2</th>\n      <td>Female</td>\n      <td>185</td>\n      <td>110</td>\n      <td>4</td>\n      <td>Obese</td>\n    </tr>\n    <tr>\n      <th>3</th>\n      <td>Female</td>\n      <td>195</td>\n      <td>104</td>\n      <td>3</td>\n      <td>Overweight</td>\n    </tr>\n    <tr>\n      <th>4</th>\n      <td>Male</td>\n      <td>149</td>\n      <td>61</td>\n      <td>3</td>\n      <td>Overweight</td>\n    </tr>\n    <tr>\n      <th>...</th>\n      <td>...</td>\n      <td>...</td>\n      <td>...</td>\n      <td>...</td>\n      <td>...</td>\n    </tr>\n    <tr>\n      <th>495</th>\n      <td>Female</td>\n      <td>150</td>\n      <td>153</td>\n      <td>5</td>\n      <td>Extremely Obese</td>\n    </tr>\n    <tr>\n      <th>496</th>\n      <td>Female</td>\n      <td>184</td>\n      <td>121</td>\n      <td>4</td>\n      <td>Obese</td>\n    </tr>\n    <tr>\n      <th>497</th>\n      <td>Female</td>\n      <td>141</td>\n      <td>136</td>\n      <td>5</td>\n      <td>Extremely Obese</td>\n    </tr>\n    <tr>\n      <th>498</th>\n      <td>Male</td>\n      <td>150</td>\n      <td>95</td>\n      <td>5</td>\n      <td>Extremely Obese</td>\n    </tr>\n    <tr>\n      <th>499</th>\n      <td>Male</td>\n      <td>173</td>\n      <td>131</td>\n      <td>5</td>\n      <td>Extremely Obese</td>\n    </tr>\n  </tbody>\n</table>\n<p>489 rows × 5 columns</p>\n</div>"
     },
     "execution_count": 215,
     "metadata": {},
     "output_type": "execute_result"
    }
   ],
   "source": [
    "df"
   ]
  },
  {
   "cell_type": "markdown",
   "source": [
    "# Data Visualization and Analysis"
   ],
   "metadata": {
    "collapsed": false
   }
  },
  {
   "cell_type": "markdown",
   "source": [
    "The dataset is divides almost **50/50** between **'Male'** and **'Female'** categories."
   ],
   "metadata": {
    "collapsed": false
   }
  },
  {
   "cell_type": "code",
   "execution_count": 216,
   "outputs": [
    {
     "data": {
      "text/plain": "        Count  Percentage\nFemale    250       51.12\nMale      239       48.88",
      "text/html": "<div>\n<style scoped>\n    .dataframe tbody tr th:only-of-type {\n        vertical-align: middle;\n    }\n\n    .dataframe tbody tr th {\n        vertical-align: top;\n    }\n\n    .dataframe thead th {\n        text-align: right;\n    }\n</style>\n<table border=\"1\" class=\"dataframe\">\n  <thead>\n    <tr style=\"text-align: right;\">\n      <th></th>\n      <th>Count</th>\n      <th>Percentage</th>\n    </tr>\n  </thead>\n  <tbody>\n    <tr>\n      <th>Female</th>\n      <td>250</td>\n      <td>51.12</td>\n    </tr>\n    <tr>\n      <th>Male</th>\n      <td>239</td>\n      <td>48.88</td>\n    </tr>\n  </tbody>\n</table>\n</div>"
     },
     "execution_count": 216,
     "metadata": {},
     "output_type": "execute_result"
    }
   ],
   "source": [
    "gender_counts = df['Gender'].value_counts()\n",
    "gender_percents = round((gender_counts / gender_counts.sum()) * 100, 2)\n",
    "gender_df = pd.DataFrame({'Count': gender_counts, 'Percentage': gender_percents})\n",
    "gender_df"
   ],
   "metadata": {
    "collapsed": false,
    "ExecuteTime": {
     "start_time": "2023-04-15T12:16:33.788502Z",
     "end_time": "2023-04-15T12:16:33.798667Z"
    }
   }
  },
  {
   "cell_type": "markdown",
   "source": [
    "The percentage of the obesity categories shows that almost half of the sample (**≈ 40%**) is qualified as **'Extremely Obese'** and only **≈ 7%** is under the **'Normal'** limit."
   ],
   "metadata": {
    "collapsed": false
   }
  },
  {
   "cell_type": "code",
   "execution_count": 217,
   "outputs": [
    {
     "data": {
      "text/plain": "                       Count  Percentage\nExtremely Obese          195       39.88\nObese                    128       26.18\nNormal                    69       14.11\nOverweight                64       13.09\nUnderweight               20        4.09\nExtremely Underweight     13        2.66",
      "text/html": "<div>\n<style scoped>\n    .dataframe tbody tr th:only-of-type {\n        vertical-align: middle;\n    }\n\n    .dataframe tbody tr th {\n        vertical-align: top;\n    }\n\n    .dataframe thead th {\n        text-align: right;\n    }\n</style>\n<table border=\"1\" class=\"dataframe\">\n  <thead>\n    <tr style=\"text-align: right;\">\n      <th></th>\n      <th>Count</th>\n      <th>Percentage</th>\n    </tr>\n  </thead>\n  <tbody>\n    <tr>\n      <th>Extremely Obese</th>\n      <td>195</td>\n      <td>39.88</td>\n    </tr>\n    <tr>\n      <th>Obese</th>\n      <td>128</td>\n      <td>26.18</td>\n    </tr>\n    <tr>\n      <th>Normal</th>\n      <td>69</td>\n      <td>14.11</td>\n    </tr>\n    <tr>\n      <th>Overweight</th>\n      <td>64</td>\n      <td>13.09</td>\n    </tr>\n    <tr>\n      <th>Underweight</th>\n      <td>20</td>\n      <td>4.09</td>\n    </tr>\n    <tr>\n      <th>Extremely Underweight</th>\n      <td>13</td>\n      <td>2.66</td>\n    </tr>\n  </tbody>\n</table>\n</div>"
     },
     "execution_count": 217,
     "metadata": {},
     "output_type": "execute_result"
    }
   ],
   "source": [
    "index_counts = df['Index_name'].value_counts()\n",
    "index_percents = round((index_counts / index_counts.sum()) * 100, 2)\n",
    "index_df = pd.DataFrame({'Count': index_counts, 'Percentage': index_percents})\n",
    "index_df"
   ],
   "metadata": {
    "collapsed": false,
    "ExecuteTime": {
     "start_time": "2023-04-15T12:16:36.529889Z",
     "end_time": "2023-04-15T12:16:36.540505Z"
    }
   }
  },
  {
   "cell_type": "markdown",
   "source": [
    "This can be easily observed in the scatter plot **'Height (cm) vs Weight (kg)'**."
   ],
   "metadata": {
    "collapsed": false
   }
  },
  {
   "cell_type": "code",
   "execution_count": 218,
   "outputs": [
    {
     "name": "stderr",
     "output_type": "stream",
     "text": [
      "/opt/anaconda3/lib/python3.8/site-packages/seaborn/_decorators.py:36: FutureWarning: Pass the following variables as keyword args: x, y, data. From version 0.12, the only valid positional argument will be `data`, and passing other arguments without an explicit keyword will result in an error or misinterpretation.\n",
      "  warnings.warn(\n",
      "/opt/anaconda3/lib/python3.8/site-packages/seaborn/regression.py:581: UserWarning: The `size` parameter has been renamed to `height`; please update your code.\n",
      "  warnings.warn(msg, UserWarning)\n"
     ]
    },
    {
     "data": {
      "text/plain": "Text(0.5, 1.0, 'Height (cm) vs Weight (kg)')"
     },
     "execution_count": 218,
     "metadata": {},
     "output_type": "execute_result"
    },
    {
     "data": {
      "text/plain": "<Figure size 787.5x432 with 1 Axes>",
      "image/png": "[encoded data removed]"
     },
     "metadata": {
      "needs_background": "light"
     },
     "output_type": "display_data"
    }
   ],
   "source": [
    "sns.lmplot('Weight', 'Height', df, hue='Index_name',fit_reg=False, size=6, aspect=1.5)\n",
    "plt.title('Height (cm) vs Weight (kg)')"
   ],
   "metadata": {
    "collapsed": false,
    "ExecuteTime": {
     "start_time": "2023-04-15T12:16:39.287680Z",
     "end_time": "2023-04-15T12:16:39.638790Z"
    }
   }
  },
  {
   "cell_type": "markdown",
   "source": [
    "The 'Male' vs 'Female' comparison shows that the **female** sample has a tendency toward the **'Normal'** weight and the **male** sample has a tendency to the **'Extremely Obese'** and **'Underweight'** sides."
   ],
   "metadata": {
    "collapsed": false
   }
  },
  {
   "cell_type": "code",
   "execution_count": 219,
   "outputs": [
    {
     "data": {
      "text/plain": "                       Male  Female\nExtremely Obese         103      92\nExtremely Underweight     6       7\nNormal                   28      41\nObese                    58      70\nOverweight               31      33\nUnderweight              13       7",
      "text/html": "<div>\n<style scoped>\n    .dataframe tbody tr th:only-of-type {\n        vertical-align: middle;\n    }\n\n    .dataframe tbody tr th {\n        vertical-align: top;\n    }\n\n    .dataframe thead th {\n        text-align: right;\n    }\n</style>\n<table border=\"1\" class=\"dataframe\">\n  <thead>\n    <tr style=\"text-align: right;\">\n      <th></th>\n      <th>Male</th>\n      <th>Female</th>\n    </tr>\n  </thead>\n  <tbody>\n    <tr>\n      <th>Extremely Obese</th>\n      <td>103</td>\n      <td>92</td>\n    </tr>\n    <tr>\n      <th>Extremely Underweight</th>\n      <td>6</td>\n      <td>7</td>\n    </tr>\n    <tr>\n      <th>Normal</th>\n      <td>28</td>\n      <td>41</td>\n    </tr>\n    <tr>\n      <th>Obese</th>\n      <td>58</td>\n      <td>70</td>\n    </tr>\n    <tr>\n      <th>Overweight</th>\n      <td>31</td>\n      <td>33</td>\n    </tr>\n    <tr>\n      <th>Underweight</th>\n      <td>13</td>\n      <td>7</td>\n    </tr>\n  </tbody>\n</table>\n</div>"
     },
     "execution_count": 219,
     "metadata": {},
     "output_type": "execute_result"
    }
   ],
   "source": [
    "male_counts = df[df['Gender']=='Male']['Index_name'].value_counts()\n",
    "female_counts = df[df['Gender']=='Female']['Index_name'].value_counts()\n",
    "\n",
    "df_counts = pd.DataFrame({'Male': male_counts, 'Female': female_counts})\n",
    "df_counts"
   ],
   "metadata": {
    "collapsed": false,
    "ExecuteTime": {
     "start_time": "2023-04-15T12:16:42.174042Z",
     "end_time": "2023-04-15T12:16:42.183356Z"
    }
   }
  },
  {
   "cell_type": "code",
   "execution_count": 220,
   "outputs": [
    {
     "data": {
      "text/plain": "<AxesSubplot:>"
     },
     "execution_count": 220,
     "metadata": {},
     "output_type": "execute_result"
    },
    {
     "data": {
      "text/plain": "<Figure size 576x432 with 1 Axes>",
      "image/png": "[encoded data removed]"
     },
     "metadata": {
      "needs_background": "light"
     },
     "output_type": "display_data"
    }
   ],
   "source": [
    "df_counts.plot(kind='barh', figsize=(8, 6))"
   ],
   "metadata": {
    "collapsed": false,
    "ExecuteTime": {
     "start_time": "2023-04-15T12:16:43.627036Z",
     "end_time": "2023-04-15T12:16:43.759287Z"
    }
   }
  },
  {
   "cell_type": "code",
   "execution_count": 221,
   "outputs": [
    {
     "data": {
      "text/plain": "                       Male %  Female %\nExtremely Obese         52.82     47.18\nExtremely Underweight   46.15     53.85\nNormal                  40.58     59.42\nObese                   45.31     54.69\nOverweight              48.44     51.56\nUnderweight             65.00     35.00",
      "text/html": "<div>\n<style scoped>\n    .dataframe tbody tr th:only-of-type {\n        vertical-align: middle;\n    }\n\n    .dataframe tbody tr th {\n        vertical-align: top;\n    }\n\n    .dataframe thead th {\n        text-align: right;\n    }\n</style>\n<table border=\"1\" class=\"dataframe\">\n  <thead>\n    <tr style=\"text-align: right;\">\n      <th></th>\n      <th>Male %</th>\n      <th>Female %</th>\n    </tr>\n  </thead>\n  <tbody>\n    <tr>\n      <th>Extremely Obese</th>\n      <td>52.82</td>\n      <td>47.18</td>\n    </tr>\n    <tr>\n      <th>Extremely Underweight</th>\n      <td>46.15</td>\n      <td>53.85</td>\n    </tr>\n    <tr>\n      <th>Normal</th>\n      <td>40.58</td>\n      <td>59.42</td>\n    </tr>\n    <tr>\n      <th>Obese</th>\n      <td>45.31</td>\n      <td>54.69</td>\n    </tr>\n    <tr>\n      <th>Overweight</th>\n      <td>48.44</td>\n      <td>51.56</td>\n    </tr>\n    <tr>\n      <th>Underweight</th>\n      <td>65.00</td>\n      <td>35.00</td>\n    </tr>\n  </tbody>\n</table>\n</div>"
     },
     "execution_count": 221,
     "metadata": {},
     "output_type": "execute_result"
    }
   ],
   "source": [
    "male_percentages = round((df[df['Gender'] == 'Male']['Index_name'].value_counts() / df['Index_name'].value_counts())*100, 2)\n",
    "female_percentages = round((df[df['Gender'] == 'Female']['Index_name'].value_counts() / df['Index_name'].value_counts())*100, 2)\n",
    "\n",
    "result_df = pd.concat([male_percentages, female_percentages], axis=1)\n",
    "result_df.columns = ['Male %', 'Female %']\n",
    "result_df"
   ],
   "metadata": {
    "collapsed": false,
    "ExecuteTime": {
     "start_time": "2023-04-15T12:16:45.305314Z",
     "end_time": "2023-04-15T12:16:45.325191Z"
    }
   }
  },
  {
   "cell_type": "code",
   "execution_count": 222,
   "outputs": [
    {
     "data": {
      "text/plain": "<AxesSubplot:>"
     },
     "execution_count": 222,
     "metadata": {},
     "output_type": "execute_result"
    },
    {
     "data": {
      "text/plain": "<Figure size 576x432 with 1 Axes>",
      "image/png": "[encoded data removed]"
     },
     "metadata": {
      "needs_background": "light"
     },
     "output_type": "display_data"
    }
   ],
   "source": [
    "result_df.plot(kind='barh', figsize=(8, 6))"
   ],
   "metadata": {
    "collapsed": false,
    "ExecuteTime": {
     "start_time": "2023-04-15T12:16:46.902180Z",
     "end_time": "2023-04-15T12:16:47.011856Z"
    }
   }
  }
 ],
 "metadata": {
  "kernelspec": {
   "display_name": "Python 3",
   "language": "python",
   "name": "python3"
  },
  "language_info": {
   "codemirror_mode": {
    "name": "ipython",
    "version": 3
   },
   "file_extension": ".py",
   "mimetype": "text/x-python",
   "name": "python",
   "nbconvert_exporter": "python",
   "pygments_lexer": "ipython3",
   "version": "3.7.10"
  }
 },
 "nbformat": 4,
 "nbformat_minor": 2
}
