{
 "cells": [
  {
   "cell_type": "code",
   "execution_count": 1,
   "metadata": {
    "collapsed": true
   },
   "outputs": [],
   "source": [
    "import pandas as pd\n",
    "import seaborn as sns"
   ]
  },
  {
   "cell_type": "code",
   "execution_count": 2,
   "outputs": [],
   "source": [
    "df = pd.read_csv('Goodreads All Time Greatest Books 8k Data.csv')"
   ],
   "metadata": {
    "collapsed": false
   }
  },
  {
   "cell_type": "markdown",
   "source": [
    "## Removing 'Collections'"
   ],
   "metadata": {
    "collapsed": false
   }
  },
  {
   "cell_type": "code",
   "execution_count": 3,
   "outputs": [
    {
     "data": {
      "text/plain": "True"
     },
     "execution_count": 3,
     "metadata": {},
     "output_type": "execute_result"
    }
   ],
   "source": [
    "df['Book_Name'].str.contains('Collection | collection | Trilogy').any()"
   ],
   "metadata": {
    "collapsed": false
   }
  },
  {
   "cell_type": "code",
   "execution_count": 4,
   "outputs": [],
   "source": [
    "df = df[df['Book_Name'].str.contains('Collection | collection')==False]"
   ],
   "metadata": {
    "collapsed": false
   }
  },
  {
   "cell_type": "code",
   "execution_count": 5,
   "outputs": [
    {
     "data": {
      "text/plain": "                                              Book_Name            Author  \\\n0                                 To Kill a Mockingbird        Harper Lee   \n1                                                  1984     George Orwell   \n2                                        Fahrenheit 451      Ray Bradbury   \n3                                           Animal Farm     George Orwell   \n4                                            The Hobbit    J.R.R. Tolkien   \n...                                                 ...               ...   \n7801                                Winter in the Blood       James Welch   \n7802  The Inextinguishable Symphony: A True Story of...  Martin Goldsmith   \n7803                                   The Moon Is Down    John Steinbeck   \n7804              Ο ιππότης με τη σκουριασμένη πανοπλία     Robert Fisher   \n7805                                             Coolie    Mulk Raj Anand   \n\n      Average_star    Ratings  Reviews     5_Star     4_Star   3_Star  \\\n0             4.27  5,623,473  108,722  2,927,118  1,669,471  730,317   \n1             4.19  4,134,439   98,891  1,956,290  1,345,678  588,373   \n2             3.97  2,181,792   64,728    788,776    777,014  438,256   \n3             3.98  3,521,050   81,746  1,310,631  1,229,834  676,221   \n4             4.28  3,612,605   62,476  1,930,001  1,047,617  439,072   \n...            ...        ...      ...        ...        ...      ...   \n7801          3.84      3,536      355      1,006      1,361      850   \n7802          4.20      1,011      121        442        391      129   \n7803          3.92     25,470    2,068      7,210     10,651    6,135   \n7804          3.80     22,768    1,830      7,278      7,169    5,555   \n7805          3.80        810       82        187        353      209   \n\n       2_Star   1_Star  \n0     192,620  103,947  \n1     158,757   85,341  \n2     123,939   53,807  \n3     200,989  103,375  \n4     118,631   77,284  \n...       ...      ...  \n7801      234       85  \n7802       39       10  \n7803    1,188      286  \n7804    1,951      815  \n7805       46       15  \n\n[7802 rows x 10 columns]",
      "text/html": "<div>\n<style scoped>\n    .dataframe tbody tr th:only-of-type {\n        vertical-align: middle;\n    }\n\n    .dataframe tbody tr th {\n        vertical-align: top;\n    }\n\n    .dataframe thead th {\n        text-align: right;\n    }\n</style>\n<table border=\"1\" class=\"dataframe\">\n  <thead>\n    <tr style=\"text-align: right;\">\n      <th></th>\n      <th>Book_Name</th>\n      <th>Author</th>\n      <th>Average_star</th>\n      <th>Ratings</th>\n      <th>Reviews</th>\n      <th>5_Star</th>\n      <th>4_Star</th>\n      <th>3_Star</th>\n      <th>2_Star</th>\n      <th>1_Star</th>\n    </tr>\n  </thead>\n  <tbody>\n    <tr>\n      <th>0</th>\n      <td>To Kill a Mockingbird</td>\n      <td>Harper Lee</td>\n      <td>4.27</td>\n      <td>5,623,473</td>\n      <td>108,722</td>\n      <td>2,927,118</td>\n      <td>1,669,471</td>\n      <td>730,317</td>\n      <td>192,620</td>\n      <td>103,947</td>\n    </tr>\n    <tr>\n      <th>1</th>\n      <td>1984</td>\n      <td>George Orwell</td>\n      <td>4.19</td>\n      <td>4,134,439</td>\n      <td>98,891</td>\n      <td>1,956,290</td>\n      <td>1,345,678</td>\n      <td>588,373</td>\n      <td>158,757</td>\n      <td>85,341</td>\n    </tr>\n    <tr>\n      <th>2</th>\n      <td>Fahrenheit 451</td>\n      <td>Ray Bradbury</td>\n      <td>3.97</td>\n      <td>2,181,792</td>\n      <td>64,728</td>\n      <td>788,776</td>\n      <td>777,014</td>\n      <td>438,256</td>\n      <td>123,939</td>\n      <td>53,807</td>\n    </tr>\n    <tr>\n      <th>3</th>\n      <td>Animal Farm</td>\n      <td>George Orwell</td>\n      <td>3.98</td>\n      <td>3,521,050</td>\n      <td>81,746</td>\n      <td>1,310,631</td>\n      <td>1,229,834</td>\n      <td>676,221</td>\n      <td>200,989</td>\n      <td>103,375</td>\n    </tr>\n    <tr>\n      <th>4</th>\n      <td>The Hobbit</td>\n      <td>J.R.R. Tolkien</td>\n      <td>4.28</td>\n      <td>3,612,605</td>\n      <td>62,476</td>\n      <td>1,930,001</td>\n      <td>1,047,617</td>\n      <td>439,072</td>\n      <td>118,631</td>\n      <td>77,284</td>\n    </tr>\n    <tr>\n      <th>...</th>\n      <td>...</td>\n      <td>...</td>\n      <td>...</td>\n      <td>...</td>\n      <td>...</td>\n      <td>...</td>\n      <td>...</td>\n      <td>...</td>\n      <td>...</td>\n      <td>...</td>\n    </tr>\n    <tr>\n      <th>7801</th>\n      <td>Winter in the Blood</td>\n      <td>James Welch</td>\n      <td>3.84</td>\n      <td>3,536</td>\n      <td>355</td>\n      <td>1,006</td>\n      <td>1,361</td>\n      <td>850</td>\n      <td>234</td>\n      <td>85</td>\n    </tr>\n    <tr>\n      <th>7802</th>\n      <td>The Inextinguishable Symphony: A True Story of...</td>\n      <td>Martin Goldsmith</td>\n      <td>4.20</td>\n      <td>1,011</td>\n      <td>121</td>\n      <td>442</td>\n      <td>391</td>\n      <td>129</td>\n      <td>39</td>\n      <td>10</td>\n    </tr>\n    <tr>\n      <th>7803</th>\n      <td>The Moon Is Down</td>\n      <td>John Steinbeck</td>\n      <td>3.92</td>\n      <td>25,470</td>\n      <td>2,068</td>\n      <td>7,210</td>\n      <td>10,651</td>\n      <td>6,135</td>\n      <td>1,188</td>\n      <td>286</td>\n    </tr>\n    <tr>\n      <th>7804</th>\n      <td>Ο ιππότης με τη σκουριασμένη πανοπλία</td>\n      <td>Robert Fisher</td>\n      <td>3.80</td>\n      <td>22,768</td>\n      <td>1,830</td>\n      <td>7,278</td>\n      <td>7,169</td>\n      <td>5,555</td>\n      <td>1,951</td>\n      <td>815</td>\n    </tr>\n    <tr>\n      <th>7805</th>\n      <td>Coolie</td>\n      <td>Mulk Raj Anand</td>\n      <td>3.80</td>\n      <td>810</td>\n      <td>82</td>\n      <td>187</td>\n      <td>353</td>\n      <td>209</td>\n      <td>46</td>\n      <td>15</td>\n    </tr>\n  </tbody>\n</table>\n<p>7802 rows × 10 columns</p>\n</div>"
     },
     "execution_count": 5,
     "metadata": {},
     "output_type": "execute_result"
    }
   ],
   "source": [
    "df"
   ],
   "metadata": {
    "collapsed": false
   }
  },
  {
   "cell_type": "code",
   "execution_count": 6,
   "outputs": [
    {
     "data": {
      "text/plain": "count    7802.000000\nmean        4.018371\nstd         0.273629\nmin         0.000000\n25%         3.850000\n50%         4.030000\n75%         4.200000\nmax         5.000000\nName: Average_star, dtype: float64"
     },
     "execution_count": 6,
     "metadata": {},
     "output_type": "execute_result"
    }
   ],
   "source": [
    "df['Average_star'].describe()"
   ],
   "metadata": {
    "collapsed": false
   }
  },
  {
   "cell_type": "code",
   "execution_count": 7,
   "outputs": [
    {
     "data": {
      "text/plain": "<AxesSubplot:xlabel='Average_star', ylabel='Count'>"
     },
     "execution_count": 7,
     "metadata": {},
     "output_type": "execute_result"
    },
    {
     "data": {
      "text/plain": "<Figure size 720x360 with 1 Axes>",
      "image/png": "[encoded data removed]"
     },
     "metadata": {},
     "output_type": "display_data"
    }
   ],
   "source": [
    "sns.set(rc={\"figure.figsize\":(10, 5)})\n",
    "sns.histplot(df['Average_star'], bins=50)"
   ],
   "metadata": {
    "collapsed": false
   }
  },
  {
   "cell_type": "markdown",
   "source": [
    "Most books have a rating around 4 starts"
   ],
   "metadata": {
    "collapsed": false
   }
  },
  {
   "cell_type": "markdown",
   "source": [
    "## Analysis by Author"
   ],
   "metadata": {
    "collapsed": false
   }
  },
  {
   "cell_type": "markdown",
   "source": [
    "Change STR columns to INT"
   ],
   "metadata": {
    "collapsed": false
   }
  },
  {
   "cell_type": "code",
   "execution_count": 8,
   "outputs": [],
   "source": [
    "for x in df[['Ratings', 'Reviews', '5_Star', '4_Star', '3_Star', '2_Star', '1_Star']]:\n",
    "    df[x] = df[x].apply(lambda x: x.replace(',','')).astype(int)"
   ],
   "metadata": {
    "collapsed": false
   }
  },
  {
   "cell_type": "markdown",
   "source": [
    "Create a new dataframe to understand more about the authors"
   ],
   "metadata": {
    "collapsed": false
   }
  },
  {
   "cell_type": "code",
   "execution_count": 9,
   "outputs": [],
   "source": [
    "author_df = pd.DataFrame({\n",
    "    'Author': df['Author'].unique(), # get a list of unique authors\n",
    "    'Books_Published_Count': df.groupby('Author')['Book_Name'].count(), # group by author and count the number of books\n",
    "    'Average_Rating_Total': round(df.groupby('Author')['Average_star'].mean(), 2), # group by author and calculate the average star rating\n",
    "    'Ratings_Total': df.groupby('Author')['Ratings'].sum(), # group by author and calculate the total rating (sum)\n",
    "    '5_Star_Total': df.groupby('Author')['5_Star'].sum(), # group by author and calculate the total 5 stars reviews (sum)\n",
    "    '4_Star_Total': df.groupby('Author')['4_Star'].sum(), # group by author and calculate the total 4 stars reviews (sum)\n",
    "    '3_Star_Total': df.groupby('Author')['3_Star'].sum(), # group by author and calculate the total 3 stars reviews (sum)\n",
    "    '2_Star_Total': df.groupby('Author')['2_Star'].sum(), # group by author and calculate the total 2 stars reviews (sum)\n",
    "    '1_Star_Total': df.groupby('Author')['1_Star'].sum() # group by author and calculate the total 1 stars reviews (sum)\n",
    "})\n",
    "author_df.drop(columns = ['Author'], axis=1, inplace = True)\n",
    "author_df.reset_index(inplace=True)"
   ],
   "metadata": {
    "collapsed": false
   }
  },
  {
   "cell_type": "code",
   "execution_count": 10,
   "outputs": [
    {
     "data": {
      "text/plain": "                  Author  Books_Published_Count  Average_Rating_Total  \\\n0                 -Dell-                      1                  4.00   \n1         A. Nagoor Kani                      2                  3.89   \n2         A.A. Attanasio                      1                  4.16   \n3             A.A. Milne                      5                  4.34   \n4             A.A. Navis                      1                  4.00   \n...                  ...                    ...                   ...   \n3766         مصطفى محمود                      2                  3.94   \n3767  يحيى بن شرف النووي                      1                  4.65   \n3768       ปรีดี พนมยงค์                      1                  4.40   \n3769                柴門ふみ                      1                  3.85   \n3770                 羅貫中                      1                  4.38   \n\n      Ratings_Total  5_Star_Total  4_Star_Total  3_Star_Total  2_Star_Total  \\\n0                32            12            12             4             4   \n1               800           335           228           106            61   \n2               500           224           171            75            23   \n3            492488        280633        131882         60361         12614   \n4              3150          1099          1182           699           123   \n...             ...           ...           ...           ...           ...   \n3766          56838         22017         18067         10053          3837   \n3767           7052          5478          1004           365           107   \n3768              5             3             1             1             0   \n3769             13             3             6             3             1   \n3770           5146          2967          1413           566           130   \n\n      1_Star_Total  \n0                0  \n1               70  \n2                7  \n3             6998  \n4               47  \n...            ...  \n3766          2864  \n3767            98  \n3768             0  \n3769             0  \n3770            70  \n\n[3771 rows x 9 columns]",
      "text/html": "<div>\n<style scoped>\n    .dataframe tbody tr th:only-of-type {\n        vertical-align: middle;\n    }\n\n    .dataframe tbody tr th {\n        vertical-align: top;\n    }\n\n    .dataframe thead th {\n        text-align: right;\n    }\n</style>\n<table border=\"1\" class=\"dataframe\">\n  <thead>\n    <tr style=\"text-align: right;\">\n      <th></th>\n      <th>Author</th>\n      <th>Books_Published_Count</th>\n      <th>Average_Rating_Total</th>\n      <th>Ratings_Total</th>\n      <th>5_Star_Total</th>\n      <th>4_Star_Total</th>\n      <th>3_Star_Total</th>\n      <th>2_Star_Total</th>\n      <th>1_Star_Total</th>\n    </tr>\n  </thead>\n  <tbody>\n    <tr>\n      <th>0</th>\n      <td>-Dell-</td>\n      <td>1</td>\n      <td>4.00</td>\n      <td>32</td>\n      <td>12</td>\n      <td>12</td>\n      <td>4</td>\n      <td>4</td>\n      <td>0</td>\n    </tr>\n    <tr>\n      <th>1</th>\n      <td>A. Nagoor Kani</td>\n      <td>2</td>\n      <td>3.89</td>\n      <td>800</td>\n      <td>335</td>\n      <td>228</td>\n      <td>106</td>\n      <td>61</td>\n      <td>70</td>\n    </tr>\n    <tr>\n      <th>2</th>\n      <td>A.A. Attanasio</td>\n      <td>1</td>\n      <td>4.16</td>\n      <td>500</td>\n      <td>224</td>\n      <td>171</td>\n      <td>75</td>\n      <td>23</td>\n      <td>7</td>\n    </tr>\n    <tr>\n      <th>3</th>\n      <td>A.A. Milne</td>\n      <td>5</td>\n      <td>4.34</td>\n      <td>492488</td>\n      <td>280633</td>\n      <td>131882</td>\n      <td>60361</td>\n      <td>12614</td>\n      <td>6998</td>\n    </tr>\n    <tr>\n      <th>4</th>\n      <td>A.A. Navis</td>\n      <td>1</td>\n      <td>4.00</td>\n      <td>3150</td>\n      <td>1099</td>\n      <td>1182</td>\n      <td>699</td>\n      <td>123</td>\n      <td>47</td>\n    </tr>\n    <tr>\n      <th>...</th>\n      <td>...</td>\n      <td>...</td>\n      <td>...</td>\n      <td>...</td>\n      <td>...</td>\n      <td>...</td>\n      <td>...</td>\n      <td>...</td>\n      <td>...</td>\n    </tr>\n    <tr>\n      <th>3766</th>\n      <td>مصطفى محمود</td>\n      <td>2</td>\n      <td>3.94</td>\n      <td>56838</td>\n      <td>22017</td>\n      <td>18067</td>\n      <td>10053</td>\n      <td>3837</td>\n      <td>2864</td>\n    </tr>\n    <tr>\n      <th>3767</th>\n      <td>يحيى بن شرف النووي</td>\n      <td>1</td>\n      <td>4.65</td>\n      <td>7052</td>\n      <td>5478</td>\n      <td>1004</td>\n      <td>365</td>\n      <td>107</td>\n      <td>98</td>\n    </tr>\n    <tr>\n      <th>3768</th>\n      <td>ปรีดี พนมยงค์</td>\n      <td>1</td>\n      <td>4.40</td>\n      <td>5</td>\n      <td>3</td>\n      <td>1</td>\n      <td>1</td>\n      <td>0</td>\n      <td>0</td>\n    </tr>\n    <tr>\n      <th>3769</th>\n      <td>柴門ふみ</td>\n      <td>1</td>\n      <td>3.85</td>\n      <td>13</td>\n      <td>3</td>\n      <td>6</td>\n      <td>3</td>\n      <td>1</td>\n      <td>0</td>\n    </tr>\n    <tr>\n      <th>3770</th>\n      <td>羅貫中</td>\n      <td>1</td>\n      <td>4.38</td>\n      <td>5146</td>\n      <td>2967</td>\n      <td>1413</td>\n      <td>566</td>\n      <td>130</td>\n      <td>70</td>\n    </tr>\n  </tbody>\n</table>\n<p>3771 rows × 9 columns</p>\n</div>"
     },
     "execution_count": 10,
     "metadata": {},
     "output_type": "execute_result"
    }
   ],
   "source": [
    "author_df"
   ],
   "metadata": {
    "collapsed": false
   }
  },
  {
   "cell_type": "markdown",
   "source": [
    "### Top 5 Author with most published books"
   ],
   "metadata": {
    "collapsed": false
   }
  },
  {
   "cell_type": "code",
   "execution_count": 11,
   "outputs": [
    {
     "data": {
      "text/plain": "               Author  Books_Published_Count  Average_Rating_Total\n3481     V.C. Andrews                     43                  3.87\n30    Agatha Christie                     39                  3.95\n3273     Stephen King                     39                  4.00\n2817   Philip K. Dick                     36                  3.78\n470        C.S. Lewis                     32                  4.10",
      "text/html": "<div>\n<style scoped>\n    .dataframe tbody tr th:only-of-type {\n        vertical-align: middle;\n    }\n\n    .dataframe tbody tr th {\n        vertical-align: top;\n    }\n\n    .dataframe thead th {\n        text-align: right;\n    }\n</style>\n<table border=\"1\" class=\"dataframe\">\n  <thead>\n    <tr style=\"text-align: right;\">\n      <th></th>\n      <th>Author</th>\n      <th>Books_Published_Count</th>\n      <th>Average_Rating_Total</th>\n    </tr>\n  </thead>\n  <tbody>\n    <tr>\n      <th>3481</th>\n      <td>V.C. Andrews</td>\n      <td>43</td>\n      <td>3.87</td>\n    </tr>\n    <tr>\n      <th>30</th>\n      <td>Agatha Christie</td>\n      <td>39</td>\n      <td>3.95</td>\n    </tr>\n    <tr>\n      <th>3273</th>\n      <td>Stephen King</td>\n      <td>39</td>\n      <td>4.00</td>\n    </tr>\n    <tr>\n      <th>2817</th>\n      <td>Philip K. Dick</td>\n      <td>36</td>\n      <td>3.78</td>\n    </tr>\n    <tr>\n      <th>470</th>\n      <td>C.S. Lewis</td>\n      <td>32</td>\n      <td>4.10</td>\n    </tr>\n  </tbody>\n</table>\n</div>"
     },
     "execution_count": 11,
     "metadata": {},
     "output_type": "execute_result"
    }
   ],
   "source": [
    "author_df[['Author', 'Books_Published_Count', 'Average_Rating_Total']].sort_values(by = 'Books_Published_Count', ascending=False).head(5)"
   ],
   "metadata": {
    "collapsed": false
   }
  },
  {
   "cell_type": "markdown",
   "source": [
    "### Best rated authors"
   ],
   "metadata": {
    "collapsed": false
   }
  },
  {
   "cell_type": "code",
   "execution_count": 12,
   "outputs": [
    {
     "data": {
      "text/plain": "                          Author  Average_Rating_Total  Ratings_Total\n1095  Francisco José Paoli Bolio                  5.00              1\n1488       Ismael Camacho Arango                  5.00              2\n611       Clemente Arranz Enjuto                  5.00              1\n2981             Robert Benjamin                  5.00              1\n3244                 Staf Vivijs                  5.00              2\n3243            Spiros Zodhiates                  5.00              2\n1074        Florence Morris Rose                  5.00              4\n2866              Rafael Cadenas                  4.89             27\n2735                  Paul Berna                  4.86              7\n957                    Emily Cox                  4.83              6",
      "text/html": "<div>\n<style scoped>\n    .dataframe tbody tr th:only-of-type {\n        vertical-align: middle;\n    }\n\n    .dataframe tbody tr th {\n        vertical-align: top;\n    }\n\n    .dataframe thead th {\n        text-align: right;\n    }\n</style>\n<table border=\"1\" class=\"dataframe\">\n  <thead>\n    <tr style=\"text-align: right;\">\n      <th></th>\n      <th>Author</th>\n      <th>Average_Rating_Total</th>\n      <th>Ratings_Total</th>\n    </tr>\n  </thead>\n  <tbody>\n    <tr>\n      <th>1095</th>\n      <td>Francisco José Paoli Bolio</td>\n      <td>5.00</td>\n      <td>1</td>\n    </tr>\n    <tr>\n      <th>1488</th>\n      <td>Ismael Camacho Arango</td>\n      <td>5.00</td>\n      <td>2</td>\n    </tr>\n    <tr>\n      <th>611</th>\n      <td>Clemente Arranz Enjuto</td>\n      <td>5.00</td>\n      <td>1</td>\n    </tr>\n    <tr>\n      <th>2981</th>\n      <td>Robert Benjamin</td>\n      <td>5.00</td>\n      <td>1</td>\n    </tr>\n    <tr>\n      <th>3244</th>\n      <td>Staf Vivijs</td>\n      <td>5.00</td>\n      <td>2</td>\n    </tr>\n    <tr>\n      <th>3243</th>\n      <td>Spiros Zodhiates</td>\n      <td>5.00</td>\n      <td>2</td>\n    </tr>\n    <tr>\n      <th>1074</th>\n      <td>Florence Morris Rose</td>\n      <td>5.00</td>\n      <td>4</td>\n    </tr>\n    <tr>\n      <th>2866</th>\n      <td>Rafael Cadenas</td>\n      <td>4.89</td>\n      <td>27</td>\n    </tr>\n    <tr>\n      <th>2735</th>\n      <td>Paul Berna</td>\n      <td>4.86</td>\n      <td>7</td>\n    </tr>\n    <tr>\n      <th>957</th>\n      <td>Emily Cox</td>\n      <td>4.83</td>\n      <td>6</td>\n    </tr>\n  </tbody>\n</table>\n</div>"
     },
     "execution_count": 12,
     "metadata": {},
     "output_type": "execute_result"
    }
   ],
   "source": [
    "author_df[['Author', 'Average_Rating_Total', 'Ratings_Total']].sort_values(by='Average_Rating_Total', ascending=False).head(10)"
   ],
   "metadata": {
    "collapsed": false
   }
  },
  {
   "cell_type": "markdown",
   "source": [
    "Here we see a big problem: there are authors with only a few very good ratings. So, authors who have published more books, have worst ratings.\n",
    "So, the criteria to filter a \"good author\" could be authors with more than the total average ratings (94061)"
   ],
   "metadata": {
    "collapsed": false
   }
  },
  {
   "cell_type": "code",
   "execution_count": 13,
   "outputs": [
    {
     "data": {
      "text/plain": "                 Author  Average_Rating_Total  Ratings_Total  \\\n411      Bill Watterson                  4.66         409012   \n599         Chuck Dixon                  4.51         215852   \n1517       J.K. Rowling                  4.51       19798598   \n1087    Francine Rivers                  4.49         505228   \n2390  Masashi Kishimoto                  4.46         276678   \n3002     Robert Kapilow                  4.46         124202   \n644     Corrie ten Boom                  4.45         302414   \n1883          Jon Stone                  4.45         123473   \n85           Alex Haley                  4.44         156555   \n279      Art Spiegelman                  4.44         643173   \n\n      Books_Published_Count  \n411                       7  \n599                       1  \n1517                      4  \n1087                      6  \n2390                      5  \n3002                      1  \n644                       1  \n1883                      1  \n85                        1  \n279                       3  ",
      "text/html": "<div>\n<style scoped>\n    .dataframe tbody tr th:only-of-type {\n        vertical-align: middle;\n    }\n\n    .dataframe tbody tr th {\n        vertical-align: top;\n    }\n\n    .dataframe thead th {\n        text-align: right;\n    }\n</style>\n<table border=\"1\" class=\"dataframe\">\n  <thead>\n    <tr style=\"text-align: right;\">\n      <th></th>\n      <th>Author</th>\n      <th>Average_Rating_Total</th>\n      <th>Ratings_Total</th>\n      <th>Books_Published_Count</th>\n    </tr>\n  </thead>\n  <tbody>\n    <tr>\n      <th>411</th>\n      <td>Bill Watterson</td>\n      <td>4.66</td>\n      <td>409012</td>\n      <td>7</td>\n    </tr>\n    <tr>\n      <th>599</th>\n      <td>Chuck Dixon</td>\n      <td>4.51</td>\n      <td>215852</td>\n      <td>1</td>\n    </tr>\n    <tr>\n      <th>1517</th>\n      <td>J.K. Rowling</td>\n      <td>4.51</td>\n      <td>19798598</td>\n      <td>4</td>\n    </tr>\n    <tr>\n      <th>1087</th>\n      <td>Francine Rivers</td>\n      <td>4.49</td>\n      <td>505228</td>\n      <td>6</td>\n    </tr>\n    <tr>\n      <th>2390</th>\n      <td>Masashi Kishimoto</td>\n      <td>4.46</td>\n      <td>276678</td>\n      <td>5</td>\n    </tr>\n    <tr>\n      <th>3002</th>\n      <td>Robert Kapilow</td>\n      <td>4.46</td>\n      <td>124202</td>\n      <td>1</td>\n    </tr>\n    <tr>\n      <th>644</th>\n      <td>Corrie ten Boom</td>\n      <td>4.45</td>\n      <td>302414</td>\n      <td>1</td>\n    </tr>\n    <tr>\n      <th>1883</th>\n      <td>Jon Stone</td>\n      <td>4.45</td>\n      <td>123473</td>\n      <td>1</td>\n    </tr>\n    <tr>\n      <th>85</th>\n      <td>Alex Haley</td>\n      <td>4.44</td>\n      <td>156555</td>\n      <td>1</td>\n    </tr>\n    <tr>\n      <th>279</th>\n      <td>Art Spiegelman</td>\n      <td>4.44</td>\n      <td>643173</td>\n      <td>3</td>\n    </tr>\n  </tbody>\n</table>\n</div>"
     },
     "execution_count": 13,
     "metadata": {},
     "output_type": "execute_result"
    }
   ],
   "source": [
    "author_df[['Author', 'Average_Rating_Total', 'Ratings_Total', 'Books_Published_Count']].query('Ratings_Total >= Ratings_Total.mean()').sort_values(by='Average_Rating_Total', ascending=False).head(10)"
   ],
   "metadata": {
    "collapsed": false
   }
  },
  {
   "cell_type": "code",
   "execution_count": 14,
   "outputs": [
    {
     "data": {
      "text/plain": "1     2543\n2      497\n3      244\n4      134\n5       95\n6       62\n7       52\n8       34\n9       28\n11      13\n13      13\n10      11\n12      10\n14       8\n15       5\n24       4\n22       3\n16       3\n18       3\n39       2\n17       2\n32       1\n36       1\n19       1\n27       1\n43       1\nName: Books_Published_Count, dtype: int64"
     },
     "execution_count": 14,
     "metadata": {},
     "output_type": "execute_result"
    }
   ],
   "source": [
    "author_df['Books_Published_Count'].value_counts()"
   ],
   "metadata": {
    "collapsed": false
   }
  },
  {
   "cell_type": "markdown",
   "source": [
    "A new problem: there are authors that had published only a few books, other have published a lot. So, we're going to group them:\n",
    "- only 1 book\n",
    "- 2 to 4 books\n",
    "- 5 to 10 books\n",
    "- 11 to 13 books\n",
    "- 14+ books"
   ],
   "metadata": {
    "collapsed": false
   }
  },
  {
   "cell_type": "markdown",
   "source": [
    "Authors with only 1 book"
   ],
   "metadata": {
    "collapsed": false
   }
  },
  {
   "cell_type": "code",
   "execution_count": 15,
   "outputs": [],
   "source": [
    "one_book = author_df[['Author', 'Average_Rating_Total', 'Ratings_Total', 'Books_Published_Count']].query('Ratings_Total >= Ratings_Total.mean() and Books_Published_Count == 1').sort_values(by='Average_Rating_Total', ascending=False).head(5)"
   ],
   "metadata": {
    "collapsed": false
   }
  },
  {
   "cell_type": "markdown",
   "source": [
    "Authors with 2 - 4 books"
   ],
   "metadata": {
    "collapsed": false
   }
  },
  {
   "cell_type": "code",
   "execution_count": 16,
   "outputs": [],
   "source": [
    "two_four_books = author_df[['Author', 'Average_Rating_Total', 'Ratings_Total', 'Books_Published_Count']].query('Ratings_Total >= Ratings_Total.mean() and Books_Published_Count > 1 and Books_Published_Count <= 4').sort_values(by='Average_Rating_Total', ascending=False).head(5)"
   ],
   "metadata": {
    "collapsed": false
   }
  },
  {
   "cell_type": "markdown",
   "source": [
    "Authors with 5 - 10 books"
   ],
   "metadata": {
    "collapsed": false
   }
  },
  {
   "cell_type": "code",
   "execution_count": 17,
   "outputs": [],
   "source": [
    "five_ten_books = author_df[['Author', 'Average_Rating_Total', 'Ratings_Total', 'Books_Published_Count']].query('Ratings_Total >= Ratings_Total.mean() and Books_Published_Count > 4 and Books_Published_Count <= 10').sort_values(by='Average_Rating_Total', ascending=False).head(5)"
   ],
   "metadata": {
    "collapsed": false
   }
  },
  {
   "cell_type": "markdown",
   "source": [
    "Authors with 11 - 13 books"
   ],
   "metadata": {
    "collapsed": false
   }
  },
  {
   "cell_type": "code",
   "execution_count": 18,
   "outputs": [],
   "source": [
    "eleven_thirteen_books = author_df[['Author', 'Average_Rating_Total', 'Ratings_Total', 'Books_Published_Count']].query('Ratings_Total >= Ratings_Total.mean() and Books_Published_Count > 10 and Books_Published_Count <= 13').sort_values(by='Average_Rating_Total', ascending=False).head(5)"
   ],
   "metadata": {
    "collapsed": false
   }
  },
  {
   "cell_type": "markdown",
   "source": [
    "Authors with more than 13 books"
   ],
   "metadata": {
    "collapsed": false
   }
  },
  {
   "cell_type": "code",
   "execution_count": 19,
   "outputs": [],
   "source": [
    "thirteen_more_books = author_df[['Author', 'Average_Rating_Total', 'Ratings_Total', 'Books_Published_Count']].query('Ratings_Total >= Ratings_Total.mean() and Books_Published_Count > 13').sort_values(by='Average_Rating_Total', ascending=False).head(5)"
   ],
   "metadata": {
    "collapsed": false
   }
  },
  {
   "cell_type": "markdown",
   "source": [
    "Create a dataframe with only the best authors from the previous analysis"
   ],
   "metadata": {
    "collapsed": false
   }
  },
  {
   "cell_type": "code",
   "execution_count": 20,
   "outputs": [],
   "source": [
    "best_authors_df = pd.concat([one_book, two_four_books, five_ten_books, eleven_thirteen_books, thirteen_more_books])"
   ],
   "metadata": {
    "collapsed": false
   }
  },
  {
   "cell_type": "markdown",
   "source": [
    "### The best authors:"
   ],
   "metadata": {
    "collapsed": false
   }
  },
  {
   "cell_type": "code",
   "execution_count": 21,
   "outputs": [
    {
     "data": {
      "text/plain": "                    Author  Average_Rating_Total  Ratings_Total  \\\n599            Chuck Dixon                  4.51         215852   \n3002        Robert Kapilow                  4.46         124202   \n1883             Jon Stone                  4.45         123473   \n644        Corrie ten Boom                  4.45         302414   \n85              Alex Haley                  4.44         156555   \n1517          J.K. Rowling                  4.51       19798598   \n279         Art Spiegelman                  4.44         643173   \n15              A.W. Tozer                  4.38          97109   \n1407           Herman Wouk                  4.35         114200   \n1169             Garth Nix                  4.35         209368   \n411         Bill Watterson                  4.66         409012   \n1087       Francine Rivers                  4.49         505228   \n2390     Masashi Kishimoto                  4.46         276678   \n989   Erich Maria Remarque                  4.36         527967   \n1591         James Herriot                  4.36         269123   \n2283         Marcel Proust                  4.36         115623   \n1901     Jorge Luis Borges                  4.27         192671   \n3353         Tamora Pierce                  4.23         787164   \n719          David Gemmell                  4.23         144834   \n3345            T.S. Eliot                  4.14         219954   \n2591           Neil Gaiman                  4.32        1952969   \n371       Bernard Cornwell                  4.21         318889   \n301        Astrid Lindgren                  4.20         334000   \n842              Dr. Seuss                  4.19        2961255   \n2689        P.G. Wodehouse                  4.19         275707   \n\n      Books_Published_Count  \n599                       1  \n3002                      1  \n1883                      1  \n644                       1  \n85                        1  \n1517                      4  \n279                       3  \n15                        2  \n1407                      3  \n1169                      2  \n411                       7  \n1087                      6  \n2390                      5  \n989                       8  \n1591                      6  \n2283                     11  \n1901                     13  \n3353                     11  \n719                      13  \n3345                     11  \n2591                     18  \n371                      22  \n301                      16  \n842                      16  \n2689                     24  ",
      "text/html": "<div>\n<style scoped>\n    .dataframe tbody tr th:only-of-type {\n        vertical-align: middle;\n    }\n\n    .dataframe tbody tr th {\n        vertical-align: top;\n    }\n\n    .dataframe thead th {\n        text-align: right;\n    }\n</style>\n<table border=\"1\" class=\"dataframe\">\n  <thead>\n    <tr style=\"text-align: right;\">\n      <th></th>\n      <th>Author</th>\n      <th>Average_Rating_Total</th>\n      <th>Ratings_Total</th>\n      <th>Books_Published_Count</th>\n    </tr>\n  </thead>\n  <tbody>\n    <tr>\n      <th>599</th>\n      <td>Chuck Dixon</td>\n      <td>4.51</td>\n      <td>215852</td>\n      <td>1</td>\n    </tr>\n    <tr>\n      <th>3002</th>\n      <td>Robert Kapilow</td>\n      <td>4.46</td>\n      <td>124202</td>\n      <td>1</td>\n    </tr>\n    <tr>\n      <th>1883</th>\n      <td>Jon Stone</td>\n      <td>4.45</td>\n      <td>123473</td>\n      <td>1</td>\n    </tr>\n    <tr>\n      <th>644</th>\n      <td>Corrie ten Boom</td>\n      <td>4.45</td>\n      <td>302414</td>\n      <td>1</td>\n    </tr>\n    <tr>\n      <th>85</th>\n      <td>Alex Haley</td>\n      <td>4.44</td>\n      <td>156555</td>\n      <td>1</td>\n    </tr>\n    <tr>\n      <th>1517</th>\n      <td>J.K. Rowling</td>\n      <td>4.51</td>\n      <td>19798598</td>\n      <td>4</td>\n    </tr>\n    <tr>\n      <th>279</th>\n      <td>Art Spiegelman</td>\n      <td>4.44</td>\n      <td>643173</td>\n      <td>3</td>\n    </tr>\n    <tr>\n      <th>15</th>\n      <td>A.W. Tozer</td>\n      <td>4.38</td>\n      <td>97109</td>\n      <td>2</td>\n    </tr>\n    <tr>\n      <th>1407</th>\n      <td>Herman Wouk</td>\n      <td>4.35</td>\n      <td>114200</td>\n      <td>3</td>\n    </tr>\n    <tr>\n      <th>1169</th>\n      <td>Garth Nix</td>\n      <td>4.35</td>\n      <td>209368</td>\n      <td>2</td>\n    </tr>\n    <tr>\n      <th>411</th>\n      <td>Bill Watterson</td>\n      <td>4.66</td>\n      <td>409012</td>\n      <td>7</td>\n    </tr>\n    <tr>\n      <th>1087</th>\n      <td>Francine Rivers</td>\n      <td>4.49</td>\n      <td>505228</td>\n      <td>6</td>\n    </tr>\n    <tr>\n      <th>2390</th>\n      <td>Masashi Kishimoto</td>\n      <td>4.46</td>\n      <td>276678</td>\n      <td>5</td>\n    </tr>\n    <tr>\n      <th>989</th>\n      <td>Erich Maria Remarque</td>\n      <td>4.36</td>\n      <td>527967</td>\n      <td>8</td>\n    </tr>\n    <tr>\n      <th>1591</th>\n      <td>James Herriot</td>\n      <td>4.36</td>\n      <td>269123</td>\n      <td>6</td>\n    </tr>\n    <tr>\n      <th>2283</th>\n      <td>Marcel Proust</td>\n      <td>4.36</td>\n      <td>115623</td>\n      <td>11</td>\n    </tr>\n    <tr>\n      <th>1901</th>\n      <td>Jorge Luis Borges</td>\n      <td>4.27</td>\n      <td>192671</td>\n      <td>13</td>\n    </tr>\n    <tr>\n      <th>3353</th>\n      <td>Tamora Pierce</td>\n      <td>4.23</td>\n      <td>787164</td>\n      <td>11</td>\n    </tr>\n    <tr>\n      <th>719</th>\n      <td>David Gemmell</td>\n      <td>4.23</td>\n      <td>144834</td>\n      <td>13</td>\n    </tr>\n    <tr>\n      <th>3345</th>\n      <td>T.S. Eliot</td>\n      <td>4.14</td>\n      <td>219954</td>\n      <td>11</td>\n    </tr>\n    <tr>\n      <th>2591</th>\n      <td>Neil Gaiman</td>\n      <td>4.32</td>\n      <td>1952969</td>\n      <td>18</td>\n    </tr>\n    <tr>\n      <th>371</th>\n      <td>Bernard Cornwell</td>\n      <td>4.21</td>\n      <td>318889</td>\n      <td>22</td>\n    </tr>\n    <tr>\n      <th>301</th>\n      <td>Astrid Lindgren</td>\n      <td>4.20</td>\n      <td>334000</td>\n      <td>16</td>\n    </tr>\n    <tr>\n      <th>842</th>\n      <td>Dr. Seuss</td>\n      <td>4.19</td>\n      <td>2961255</td>\n      <td>16</td>\n    </tr>\n    <tr>\n      <th>2689</th>\n      <td>P.G. Wodehouse</td>\n      <td>4.19</td>\n      <td>275707</td>\n      <td>24</td>\n    </tr>\n  </tbody>\n</table>\n</div>"
     },
     "execution_count": 21,
     "metadata": {},
     "output_type": "execute_result"
    }
   ],
   "source": [
    "best_authors_df"
   ],
   "metadata": {
    "collapsed": false
   }
  },
  {
   "cell_type": "markdown",
   "source": [
    "Finding the best book of each author on the best_authors_df"
   ],
   "metadata": {
    "collapsed": false
   }
  },
  {
   "cell_type": "code",
   "execution_count": 22,
   "outputs": [],
   "source": [
    "best_authors_complete_df = best_authors_df.merge(df, how='inner')"
   ],
   "metadata": {
    "collapsed": false
   }
  },
  {
   "cell_type": "code",
   "execution_count": 23,
   "outputs": [],
   "source": [
    "best_authors_complete_df = best_authors_complete_df[['Author', 'Book_Name', 'Average_star']]"
   ],
   "metadata": {
    "collapsed": false
   }
  },
  {
   "cell_type": "code",
   "execution_count": 24,
   "outputs": [
    {
     "data": {
      "text/plain": "              Author                                          Book_Name  \\\n0        Chuck Dixon                                         The Hobbit   \n1     Robert Kapilow  Dr. Seuss's Green Eggs and Ham: For Soprano, B...   \n2          Jon Stone                The Monster at the End of this Book   \n3    Corrie ten Boom  The Hiding Place: The Triumphant True Story of...   \n4         Alex Haley              Roots: The Saga of an American Family   \n..               ...                                                ...   \n201   P.G. Wodehouse                                  Life at Blandings   \n202   P.G. Wodehouse                               A Damsel in Distress   \n203   P.G. Wodehouse                    What Ho!: The Best of Wodehouse   \n204   P.G. Wodehouse                                  The White Feather   \n205   P.G. Wodehouse                                       Uneasy Money   \n\n     Average_star  \n0            4.51  \n1            4.46  \n2            4.45  \n3            4.45  \n4            4.44  \n..            ...  \n201          4.35  \n202          4.09  \n203          4.45  \n204          3.76  \n205          4.05  \n\n[206 rows x 3 columns]",
      "text/html": "<div>\n<style scoped>\n    .dataframe tbody tr th:only-of-type {\n        vertical-align: middle;\n    }\n\n    .dataframe tbody tr th {\n        vertical-align: top;\n    }\n\n    .dataframe thead th {\n        text-align: right;\n    }\n</style>\n<table border=\"1\" class=\"dataframe\">\n  <thead>\n    <tr style=\"text-align: right;\">\n      <th></th>\n      <th>Author</th>\n      <th>Book_Name</th>\n      <th>Average_star</th>\n    </tr>\n  </thead>\n  <tbody>\n    <tr>\n      <th>0</th>\n      <td>Chuck Dixon</td>\n      <td>The Hobbit</td>\n      <td>4.51</td>\n    </tr>\n    <tr>\n      <th>1</th>\n      <td>Robert Kapilow</td>\n      <td>Dr. Seuss's Green Eggs and Ham: For Soprano, B...</td>\n      <td>4.46</td>\n    </tr>\n    <tr>\n      <th>2</th>\n      <td>Jon Stone</td>\n      <td>The Monster at the End of this Book</td>\n      <td>4.45</td>\n    </tr>\n    <tr>\n      <th>3</th>\n      <td>Corrie ten Boom</td>\n      <td>The Hiding Place: The Triumphant True Story of...</td>\n      <td>4.45</td>\n    </tr>\n    <tr>\n      <th>4</th>\n      <td>Alex Haley</td>\n      <td>Roots: The Saga of an American Family</td>\n      <td>4.44</td>\n    </tr>\n    <tr>\n      <th>...</th>\n      <td>...</td>\n      <td>...</td>\n      <td>...</td>\n    </tr>\n    <tr>\n      <th>201</th>\n      <td>P.G. Wodehouse</td>\n      <td>Life at Blandings</td>\n      <td>4.35</td>\n    </tr>\n    <tr>\n      <th>202</th>\n      <td>P.G. Wodehouse</td>\n      <td>A Damsel in Distress</td>\n      <td>4.09</td>\n    </tr>\n    <tr>\n      <th>203</th>\n      <td>P.G. Wodehouse</td>\n      <td>What Ho!: The Best of Wodehouse</td>\n      <td>4.45</td>\n    </tr>\n    <tr>\n      <th>204</th>\n      <td>P.G. Wodehouse</td>\n      <td>The White Feather</td>\n      <td>3.76</td>\n    </tr>\n    <tr>\n      <th>205</th>\n      <td>P.G. Wodehouse</td>\n      <td>Uneasy Money</td>\n      <td>4.05</td>\n    </tr>\n  </tbody>\n</table>\n<p>206 rows × 3 columns</p>\n</div>"
     },
     "execution_count": 24,
     "metadata": {},
     "output_type": "execute_result"
    }
   ],
   "source": [
    "best_authors_complete_df"
   ],
   "metadata": {
    "collapsed": false
   }
  },
  {
   "cell_type": "code",
   "execution_count": 25,
   "outputs": [],
   "source": [
    "# get the index of the row with the maximum value of Average_star for each Author\n",
    "average_star_index = best_authors_complete_df.groupby('Author')['Average_star'].idxmax()\n",
    "\n",
    "# filter the original dataframe based on the average_star_index\n",
    "best_books_by_best_authors = best_authors_complete_df.loc[average_star_index]"
   ],
   "metadata": {
    "collapsed": false
   }
  },
  {
   "cell_type": "markdown",
   "source": [
    "### The best book of the BEST authors"
   ],
   "metadata": {
    "collapsed": false
   }
  },
  {
   "cell_type": "code",
   "execution_count": 26,
   "outputs": [
    {
     "data": {
      "text/plain": "                   Author                                          Book_Name  \\\n12             A.W. Tozer                          The Knowledge of the Holy   \n4              Alex Haley              Roots: The Saga of an American Family   \n10         Art Spiegelman                                  The Complete Maus   \n156       Astrid Lindgren                             The Brothers Lionheart   \n134      Bernard Cornwell                                          Excalibur   \n21         Bill Watterson                               It's a Magical World   \n0             Chuck Dixon                                         The Hobbit   \n3         Corrie ten Boom  The Hiding Place: The Triumphant True Story of...   \n87          David Gemmell                                  Shield of Thunder   \n175             Dr. Seuss                    How the Grinch Stole Christmas!   \n38   Erich Maria Remarque               Spark of Life: A Novel of Resistance   \n27        Francine Rivers                           Mark of the Lion Trilogy   \n18              Garth Nix                       The Abhorsen Trilogy Box Set   \n14            Herman Wouk                                War and Remembrance   \n6            J.K. Rowling           Harry Potter and the Prisoner of Azkaban   \n47          James Herriot                         The Lord God Made Them All   \n2               Jon Stone                The Monster at the End of this Book   \n72      Jorge Luis Borges                                             Eseuri   \n53          Marcel Proust  Remembrance of Things Past: Volume III - The C...   \n32      Masashi Kishimoto                   Naruto, Vol. 05: The Challengers   \n124           Neil Gaiman                                            Sandman   \n184        P.G. Wodehouse                                The World of Jeeves   \n1          Robert Kapilow  Dr. Seuss's Green Eggs and Ham: For Soprano, B...   \n99             T.S. Eliot                                      Four Quartets   \n79          Tamora Pierce                             The Realms of the Gods   \n\n     Average_star  \n12           4.38  \n4            4.44  \n10           4.56  \n156          4.35  \n134          4.42  \n21           4.73  \n0            4.51  \n3            4.45  \n87           4.37  \n175          4.37  \n38           4.52  \n27           4.77  \n18           4.54  \n14           4.42  \n6            4.58  \n47           4.42  \n2            4.45  \n72           4.63  \n53           4.54  \n32           4.50  \n124          4.65  \n184          4.47  \n1            4.46  \n99           4.38  \n79           4.31  ",
      "text/html": "<div>\n<style scoped>\n    .dataframe tbody tr th:only-of-type {\n        vertical-align: middle;\n    }\n\n    .dataframe tbody tr th {\n        vertical-align: top;\n    }\n\n    .dataframe thead th {\n        text-align: right;\n    }\n</style>\n<table border=\"1\" class=\"dataframe\">\n  <thead>\n    <tr style=\"text-align: right;\">\n      <th></th>\n      <th>Author</th>\n      <th>Book_Name</th>\n      <th>Average_star</th>\n    </tr>\n  </thead>\n  <tbody>\n    <tr>\n      <th>12</th>\n      <td>A.W. Tozer</td>\n      <td>The Knowledge of the Holy</td>\n      <td>4.38</td>\n    </tr>\n    <tr>\n      <th>4</th>\n      <td>Alex Haley</td>\n      <td>Roots: The Saga of an American Family</td>\n      <td>4.44</td>\n    </tr>\n    <tr>\n      <th>10</th>\n      <td>Art Spiegelman</td>\n      <td>The Complete Maus</td>\n      <td>4.56</td>\n    </tr>\n    <tr>\n      <th>156</th>\n      <td>Astrid Lindgren</td>\n      <td>The Brothers Lionheart</td>\n      <td>4.35</td>\n    </tr>\n    <tr>\n      <th>134</th>\n      <td>Bernard Cornwell</td>\n      <td>Excalibur</td>\n      <td>4.42</td>\n    </tr>\n    <tr>\n      <th>21</th>\n      <td>Bill Watterson</td>\n      <td>It's a Magical World</td>\n      <td>4.73</td>\n    </tr>\n    <tr>\n      <th>0</th>\n      <td>Chuck Dixon</td>\n      <td>The Hobbit</td>\n      <td>4.51</td>\n    </tr>\n    <tr>\n      <th>3</th>\n      <td>Corrie ten Boom</td>\n      <td>The Hiding Place: The Triumphant True Story of...</td>\n      <td>4.45</td>\n    </tr>\n    <tr>\n      <th>87</th>\n      <td>David Gemmell</td>\n      <td>Shield of Thunder</td>\n      <td>4.37</td>\n    </tr>\n    <tr>\n      <th>175</th>\n      <td>Dr. Seuss</td>\n      <td>How the Grinch Stole Christmas!</td>\n      <td>4.37</td>\n    </tr>\n    <tr>\n      <th>38</th>\n      <td>Erich Maria Remarque</td>\n      <td>Spark of Life: A Novel of Resistance</td>\n      <td>4.52</td>\n    </tr>\n    <tr>\n      <th>27</th>\n      <td>Francine Rivers</td>\n      <td>Mark of the Lion Trilogy</td>\n      <td>4.77</td>\n    </tr>\n    <tr>\n      <th>18</th>\n      <td>Garth Nix</td>\n      <td>The Abhorsen Trilogy Box Set</td>\n      <td>4.54</td>\n    </tr>\n    <tr>\n      <th>14</th>\n      <td>Herman Wouk</td>\n      <td>War and Remembrance</td>\n      <td>4.42</td>\n    </tr>\n    <tr>\n      <th>6</th>\n      <td>J.K. Rowling</td>\n      <td>Harry Potter and the Prisoner of Azkaban</td>\n      <td>4.58</td>\n    </tr>\n    <tr>\n      <th>47</th>\n      <td>James Herriot</td>\n      <td>The Lord God Made Them All</td>\n      <td>4.42</td>\n    </tr>\n    <tr>\n      <th>2</th>\n      <td>Jon Stone</td>\n      <td>The Monster at the End of this Book</td>\n      <td>4.45</td>\n    </tr>\n    <tr>\n      <th>72</th>\n      <td>Jorge Luis Borges</td>\n      <td>Eseuri</td>\n      <td>4.63</td>\n    </tr>\n    <tr>\n      <th>53</th>\n      <td>Marcel Proust</td>\n      <td>Remembrance of Things Past: Volume III - The C...</td>\n      <td>4.54</td>\n    </tr>\n    <tr>\n      <th>32</th>\n      <td>Masashi Kishimoto</td>\n      <td>Naruto, Vol. 05: The Challengers</td>\n      <td>4.50</td>\n    </tr>\n    <tr>\n      <th>124</th>\n      <td>Neil Gaiman</td>\n      <td>Sandman</td>\n      <td>4.65</td>\n    </tr>\n    <tr>\n      <th>184</th>\n      <td>P.G. Wodehouse</td>\n      <td>The World of Jeeves</td>\n      <td>4.47</td>\n    </tr>\n    <tr>\n      <th>1</th>\n      <td>Robert Kapilow</td>\n      <td>Dr. Seuss's Green Eggs and Ham: For Soprano, B...</td>\n      <td>4.46</td>\n    </tr>\n    <tr>\n      <th>99</th>\n      <td>T.S. Eliot</td>\n      <td>Four Quartets</td>\n      <td>4.38</td>\n    </tr>\n    <tr>\n      <th>79</th>\n      <td>Tamora Pierce</td>\n      <td>The Realms of the Gods</td>\n      <td>4.31</td>\n    </tr>\n  </tbody>\n</table>\n</div>"
     },
     "execution_count": 26,
     "metadata": {},
     "output_type": "execute_result"
    }
   ],
   "source": [
    "best_books_by_best_authors"
   ],
   "metadata": {
    "collapsed": false
   }
  }
 ],
 "metadata": {
  "kernelspec": {
   "display_name": "Python 3",
   "language": "python",
   "name": "python3"
  },
  "language_info": {
   "codemirror_mode": {
    "name": "ipython",
    "version": 2
   },
   "file_extension": ".py",
   "mimetype": "text/x-python",
   "name": "python",
   "nbconvert_exporter": "python",
   "pygments_lexer": "ipython2",
   "version": "2.7.6"
  }
 },
 "nbformat": 4,
 "nbformat_minor": 0
}
